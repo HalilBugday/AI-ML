{
 "cells": [
  {
   "cell_type": "markdown",
   "metadata": {},
   "source": [
    "<h1>Choosing the most suitable candidate with decision tree classification<h1>"
   ]
  },
  {
   "cell_type": "code",
   "execution_count": 1,
   "metadata": {},
   "outputs": [],
   "source": [
    "import pandas as pd\n",
    "import numpy as np\n",
    "from sklearn import tree"
   ]
  },
  {
   "cell_type": "code",
   "execution_count": 4,
   "metadata": {},
   "outputs": [
    {
     "data": {
      "text/html": [
       "<div>\n",
       "<style scoped>\n",
       "    .dataframe tbody tr th:only-of-type {\n",
       "        vertical-align: middle;\n",
       "    }\n",
       "\n",
       "    .dataframe tbody tr th {\n",
       "        vertical-align: top;\n",
       "    }\n",
       "\n",
       "    .dataframe thead th {\n",
       "        text-align: right;\n",
       "    }\n",
       "</style>\n",
       "<table border=\"1\" class=\"dataframe\">\n",
       "  <thead>\n",
       "    <tr style=\"text-align: right;\">\n",
       "      <th></th>\n",
       "      <th>Experience year</th>\n",
       "      <th>Currently work?</th>\n",
       "      <th>Number of company worked</th>\n",
       "      <th>Education level</th>\n",
       "      <th>Top 10 University?</th>\n",
       "      <th>Internship here?</th>\n",
       "      <th>Hired</th>\n",
       "    </tr>\n",
       "  </thead>\n",
       "  <tbody>\n",
       "    <tr>\n",
       "      <th>0</th>\n",
       "      <td>11</td>\n",
       "      <td>Y</td>\n",
       "      <td>4</td>\n",
       "      <td>BS</td>\n",
       "      <td>N</td>\n",
       "      <td>N</td>\n",
       "      <td>Y</td>\n",
       "    </tr>\n",
       "    <tr>\n",
       "      <th>1</th>\n",
       "      <td>0</td>\n",
       "      <td>N</td>\n",
       "      <td>0</td>\n",
       "      <td>PhD</td>\n",
       "      <td>Y</td>\n",
       "      <td>Y</td>\n",
       "      <td>Y</td>\n",
       "    </tr>\n",
       "    <tr>\n",
       "      <th>2</th>\n",
       "      <td>5</td>\n",
       "      <td>Y</td>\n",
       "      <td>2</td>\n",
       "      <td>MS</td>\n",
       "      <td>N</td>\n",
       "      <td>Y</td>\n",
       "      <td>Y</td>\n",
       "    </tr>\n",
       "    <tr>\n",
       "      <th>3</th>\n",
       "      <td>3</td>\n",
       "      <td>N</td>\n",
       "      <td>1</td>\n",
       "      <td>BS</td>\n",
       "      <td>N</td>\n",
       "      <td>Y</td>\n",
       "      <td>Y</td>\n",
       "    </tr>\n",
       "    <tr>\n",
       "      <th>4</th>\n",
       "      <td>0</td>\n",
       "      <td>N</td>\n",
       "      <td>0</td>\n",
       "      <td>BS</td>\n",
       "      <td>N</td>\n",
       "      <td>N</td>\n",
       "      <td>N</td>\n",
       "    </tr>\n",
       "  </tbody>\n",
       "</table>\n",
       "</div>"
      ],
      "text/plain": [
       "   Experience year Currently work?  Number of company worked Education level  \\\n",
       "0               11               Y                         4              BS   \n",
       "1                0               N                         0             PhD   \n",
       "2                5               Y                         2              MS   \n",
       "3                3               N                         1              BS   \n",
       "4                0               N                         0              BS   \n",
       "\n",
       "  Top 10 University? Internship here? Hired  \n",
       "0                  N                N     Y  \n",
       "1                  Y                Y     Y  \n",
       "2                  N                Y     Y  \n",
       "3                  N                Y     Y  \n",
       "4                  N                N     N  "
      ]
     },
     "execution_count": 4,
     "metadata": {},
     "output_type": "execute_result"
    }
   ],
   "source": [
    "#Load data frame\n",
    "df = pd.read_csv('Candidates_data.csv')\n",
    "#Check data\n",
    "df.head()"
   ]
  },
  {
   "cell_type": "markdown",
   "metadata": {},
   "source": [
    "Corrections: Each data must be numerical according to scikit-learn library thus:\n",
    "<br>\n",
    "Y , N -> 1 , 0\n",
    "<br>\n",
    "BS , MS , PhD -> 0 , 1 , 2"
   ]
  },
  {
   "cell_type": "code",
   "execution_count": 5,
   "metadata": {},
   "outputs": [
    {
     "data": {
      "text/html": [
       "<div>\n",
       "<style scoped>\n",
       "    .dataframe tbody tr th:only-of-type {\n",
       "        vertical-align: middle;\n",
       "    }\n",
       "\n",
       "    .dataframe tbody tr th {\n",
       "        vertical-align: top;\n",
       "    }\n",
       "\n",
       "    .dataframe thead th {\n",
       "        text-align: right;\n",
       "    }\n",
       "</style>\n",
       "<table border=\"1\" class=\"dataframe\">\n",
       "  <thead>\n",
       "    <tr style=\"text-align: right;\">\n",
       "      <th></th>\n",
       "      <th>Experience year</th>\n",
       "      <th>Currently work?</th>\n",
       "      <th>Number of company worked</th>\n",
       "      <th>Education level</th>\n",
       "      <th>Top 10 University?</th>\n",
       "      <th>Internship here?</th>\n",
       "      <th>Hired</th>\n",
       "    </tr>\n",
       "  </thead>\n",
       "  <tbody>\n",
       "    <tr>\n",
       "      <th>0</th>\n",
       "      <td>11</td>\n",
       "      <td>1</td>\n",
       "      <td>4</td>\n",
       "      <td>0</td>\n",
       "      <td>0</td>\n",
       "      <td>0</td>\n",
       "      <td>1</td>\n",
       "    </tr>\n",
       "    <tr>\n",
       "      <th>1</th>\n",
       "      <td>0</td>\n",
       "      <td>0</td>\n",
       "      <td>0</td>\n",
       "      <td>2</td>\n",
       "      <td>1</td>\n",
       "      <td>1</td>\n",
       "      <td>1</td>\n",
       "    </tr>\n",
       "    <tr>\n",
       "      <th>2</th>\n",
       "      <td>5</td>\n",
       "      <td>1</td>\n",
       "      <td>2</td>\n",
       "      <td>1</td>\n",
       "      <td>0</td>\n",
       "      <td>1</td>\n",
       "      <td>1</td>\n",
       "    </tr>\n",
       "    <tr>\n",
       "      <th>3</th>\n",
       "      <td>3</td>\n",
       "      <td>0</td>\n",
       "      <td>1</td>\n",
       "      <td>0</td>\n",
       "      <td>0</td>\n",
       "      <td>1</td>\n",
       "      <td>1</td>\n",
       "    </tr>\n",
       "    <tr>\n",
       "      <th>4</th>\n",
       "      <td>0</td>\n",
       "      <td>0</td>\n",
       "      <td>0</td>\n",
       "      <td>0</td>\n",
       "      <td>0</td>\n",
       "      <td>0</td>\n",
       "      <td>0</td>\n",
       "    </tr>\n",
       "  </tbody>\n",
       "</table>\n",
       "</div>"
      ],
      "text/plain": [
       "   Experience year  Currently work?  Number of company worked  \\\n",
       "0               11                1                         4   \n",
       "1                0                0                         0   \n",
       "2                5                1                         2   \n",
       "3                3                0                         1   \n",
       "4                0                0                         0   \n",
       "\n",
       "   Education level  Top 10 University?  Internship here?  Hired  \n",
       "0                0                   0                 0      1  \n",
       "1                2                   1                 1      1  \n",
       "2                1                   0                 1      1  \n",
       "3                0                   0                 1      1  \n",
       "4                0                   0                 0      0  "
      ]
     },
     "execution_count": 5,
     "metadata": {},
     "output_type": "execute_result"
    }
   ],
   "source": [
    "correction_map1 = {'Y': 1, 'N': 0}\n",
    "correction_map2 = {'BS': 0, 'MS': 1, 'PhD': 2}\n",
    "\n",
    "df['Hired'] = df['Hired'].map(correction_map1)\n",
    "df['Internship here?'] = df['Internship here?'].map(correction_map1)\n",
    "df['Top 10 University?'] = df['Top 10 University?'].map(correction_map1)\n",
    "df['Currently work?'] = df['Currently work?'].map(correction_map1)\n",
    "\n",
    "df['Education level'] = df['Education level'].map(correction_map2)\n",
    "df.head()"
   ]
  },
  {
   "cell_type": "code",
   "execution_count": 8,
   "metadata": {},
   "outputs": [],
   "source": [
    "#Seprate the Hired (y) and the other values\n",
    "y = df['Hired']\n",
    "x = df.drop('Hired', axis=1)\n"
   ]
  },
  {
   "cell_type": "code",
   "execution_count": 9,
   "metadata": {},
   "outputs": [],
   "source": [
    "#Create the decision tree\n",
    "clf = tree.DecisionTreeClassifier()\n",
    "#Train the model\n",
    "clf = clf.fit(x, y)"
   ]
  },
  {
   "cell_type": "code",
   "execution_count": 19,
   "metadata": {},
   "outputs": [
    {
     "name": "stdout",
     "output_type": "stream",
     "text": [
      "[0]\n",
      "The selected candidate might not be suitable for the job.\n"
     ]
    },
    {
     "name": "stderr",
     "output_type": "stream",
     "text": [
      "/Users/halil/opt/anaconda3/lib/python3.11/site-packages/sklearn/base.py:439: UserWarning: X does not have valid feature names, but DecisionTreeClassifier was fitted with feature names\n",
      "  warnings.warn(\n"
     ]
    }
   ],
   "source": [
    "#Test the model with a input\n",
    "#Exp.year:2, Currently work:0, #ofComp:5, Education:2, Top10Uni:0, Intern:0\n",
    "input_data = [[2, 0, 5, 2, 0, 0]]\n",
    "prediction = clf.predict(input_data)\n",
    "print(prediction)\n",
    "if 0 in prediction:\n",
    "    print('The selected candidate might not be suitable for the job.')\n",
    "else:\n",
    "    print('The selected candidate is suitable for the job.')\n"
   ]
  },
  {
   "cell_type": "code",
   "execution_count": 20,
   "metadata": {},
   "outputs": [
    {
     "name": "stdout",
     "output_type": "stream",
     "text": [
      "[1]\n",
      "The selected candidate is suitable for the job.\n"
     ]
    },
    {
     "name": "stderr",
     "output_type": "stream",
     "text": [
      "/Users/halil/opt/anaconda3/lib/python3.11/site-packages/sklearn/base.py:439: UserWarning: X does not have valid feature names, but DecisionTreeClassifier was fitted with feature names\n",
      "  warnings.warn(\n"
     ]
    }
   ],
   "source": [
    "#Test the model with a input\n",
    "#Exp.year:2, Currently work:0, #ofComp:5, Education:2, Top10Uni:1, Intern:1\n",
    "input_data = [[2, 0, 5, 2, 1, 1]]\n",
    "prediction = clf.predict(input_data)\n",
    "print(prediction)\n",
    "if 0 in prediction:\n",
    "    print('The selected candidate might not be suitable for the job.')\n",
    "else:\n",
    "    print('The selected candidate is suitable for the job.')\n",
    "    "
   ]
  }
 ],
 "metadata": {
  "kernelspec": {
   "display_name": "base",
   "language": "python",
   "name": "python3"
  },
  "language_info": {
   "codemirror_mode": {
    "name": "ipython",
    "version": 3
   },
   "file_extension": ".py",
   "mimetype": "text/x-python",
   "name": "python",
   "nbconvert_exporter": "python",
   "pygments_lexer": "ipython3",
   "version": "3.11.7"
  }
 },
 "nbformat": 4,
 "nbformat_minor": 2
}
